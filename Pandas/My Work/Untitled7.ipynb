{
 "cells": [
  {
   "cell_type": "code",
   "execution_count": 5,
   "id": "1a1c6cb7",
   "metadata": {},
   "outputs": [
    {
     "data": {
      "text/plain": [
       "list"
      ]
     },
     "execution_count": 5,
     "metadata": {},
     "output_type": "execute_result"
    }
   ],
   "source": [
    "import numpy as np\n",
    "li = [1,2,3,4,5,6,7,8]\n",
    "type(li)"
   ]
  },
  {
   "cell_type": "code",
   "execution_count": 7,
   "id": "ad115b1b",
   "metadata": {},
   "outputs": [],
   "source": [
    "x = np.array(li)"
   ]
  },
  {
   "cell_type": "code",
   "execution_count": 8,
   "id": "78034892",
   "metadata": {},
   "outputs": [
    {
     "data": {
      "text/plain": [
       "array([1, 2, 3, 4, 5, 6, 7, 8])"
      ]
     },
     "execution_count": 8,
     "metadata": {},
     "output_type": "execute_result"
    }
   ],
   "source": [
    "x"
   ]
  },
  {
   "cell_type": "code",
   "execution_count": 9,
   "id": "90cc0571",
   "metadata": {},
   "outputs": [
    {
     "data": {
      "text/plain": [
       "numpy.ndarray"
      ]
     },
     "execution_count": 9,
     "metadata": {},
     "output_type": "execute_result"
    }
   ],
   "source": [
    "type(x)"
   ]
  },
  {
   "cell_type": "code",
   "execution_count": 10,
   "id": "bad4088a",
   "metadata": {},
   "outputs": [
    {
     "data": {
      "text/plain": [
       "array([1, None, 2, 3], dtype=object)"
      ]
     },
     "execution_count": 10,
     "metadata": {},
     "output_type": "execute_result"
    }
   ],
   "source": [
    "import pandas as pd\n",
    "import numpy as np\n",
    "data1 = np.array([1,None, 2,3])\n",
    "data1"
   ]
  },
  {
   "cell_type": "code",
   "execution_count": 11,
   "id": "84c663c1",
   "metadata": {},
   "outputs": [
    {
     "data": {
      "text/plain": [
       "0    1.0\n",
       "1    NaN\n",
       "2    2.0\n",
       "3    NaN\n",
       "dtype: float64"
      ]
     },
     "execution_count": 11,
     "metadata": {},
     "output_type": "execute_result"
    }
   ],
   "source": [
    "pd.Series([1,np.nan,2,None])\n"
   ]
  },
  {
   "cell_type": "code",
   "execution_count": 24,
   "id": "232a9c5d",
   "metadata": {},
   "outputs": [
    {
     "data": {
      "text/plain": [
       "0    0\n",
       "1    1\n",
       "2    2\n",
       "dtype: int32"
      ]
     },
     "execution_count": 24,
     "metadata": {},
     "output_type": "execute_result"
    }
   ],
   "source": [
    "x = pd.Series(range(3), dtype=int)\n",
    "x"
   ]
  },
  {
   "cell_type": "code",
   "execution_count": 13,
   "id": "b37e3690",
   "metadata": {},
   "outputs": [
    {
     "data": {
      "text/plain": [
       "0"
      ]
     },
     "execution_count": 13,
     "metadata": {},
     "output_type": "execute_result"
    }
   ],
   "source": [
    "x[0]"
   ]
  },
  {
   "cell_type": "code",
   "execution_count": 14,
   "id": "7aa24217",
   "metadata": {},
   "outputs": [],
   "source": [
    "x[0] = None"
   ]
  },
  {
   "cell_type": "code",
   "execution_count": 15,
   "id": "76155bca",
   "metadata": {},
   "outputs": [
    {
     "data": {
      "text/plain": [
       "0    NaN\n",
       "1    1.0\n",
       "dtype: float64"
      ]
     },
     "execution_count": 15,
     "metadata": {},
     "output_type": "execute_result"
    }
   ],
   "source": [
    "x"
   ]
  },
  {
   "cell_type": "code",
   "execution_count": null,
   "id": "f90e3345",
   "metadata": {},
   "outputs": [],
   "source": [
    "import pandas as pd\n",
    "import numpy as np\n"
   ]
  },
  {
   "cell_type": "code",
   "execution_count": 16,
   "id": "82d6225a",
   "metadata": {},
   "outputs": [
    {
     "data": {
      "text/plain": [
       "array([1, None, 2, 3], dtype=object)"
      ]
     },
     "execution_count": 16,
     "metadata": {},
     "output_type": "execute_result"
    }
   ],
   "source": [
    "data1=np.array([1, None,2,3])\n",
    "data1\n"
   ]
  },
  {
   "cell_type": "code",
   "execution_count": 17,
   "id": "597bb178",
   "metadata": {},
   "outputs": [
    {
     "name": "stdout",
     "output_type": "stream",
     "text": [
      "3.12 ms ± 233 µs per loop (mean ± std. dev. of 7 runs, 100 loops each)\n"
     ]
    }
   ],
   "source": [
    "%timeit np.arange(1E6, dtype=int).sum()"
   ]
  },
  {
   "cell_type": "code",
   "execution_count": 18,
   "id": "f1ba644f",
   "metadata": {},
   "outputs": [
    {
     "name": "stdout",
     "output_type": "stream",
     "text": [
      "105 ms ± 4.91 ms per loop (mean ± std. dev. of 7 runs, 10 loops each)\n"
     ]
    }
   ],
   "source": [
    "%timeit np.arange(1E6, dtype=object).sum()"
   ]
  },
  {
   "cell_type": "code",
   "execution_count": 19,
   "id": "7045ef0d",
   "metadata": {},
   "outputs": [
    {
     "data": {
      "text/plain": [
       "array([ 1., nan,  3.,  4.])"
      ]
     },
     "execution_count": 19,
     "metadata": {},
     "output_type": "execute_result"
    }
   ],
   "source": [
    "data2= np.array([1,np.nan,3,4])\n",
    "data2"
   ]
  },
  {
   "cell_type": "code",
   "execution_count": 20,
   "id": "ccc984b2",
   "metadata": {},
   "outputs": [
    {
     "data": {
      "text/plain": [
       "numpy.ndarray"
      ]
     },
     "execution_count": 20,
     "metadata": {},
     "output_type": "execute_result"
    }
   ],
   "source": [
    "type(data2)"
   ]
  },
  {
   "cell_type": "code",
   "execution_count": 21,
   "id": "47f80128",
   "metadata": {},
   "outputs": [
    {
     "data": {
      "text/plain": [
       "nan"
      ]
     },
     "execution_count": 21,
     "metadata": {},
     "output_type": "execute_result"
    }
   ],
   "source": [
    "1 + np.nan"
   ]
  },
  {
   "cell_type": "code",
   "execution_count": 22,
   "id": "f4c8d2b9",
   "metadata": {},
   "outputs": [
    {
     "data": {
      "text/plain": [
       "nan"
      ]
     },
     "execution_count": 22,
     "metadata": {},
     "output_type": "execute_result"
    }
   ],
   "source": [
    "1 * np.nan"
   ]
  },
  {
   "cell_type": "code",
   "execution_count": 23,
   "id": "8f6a771a",
   "metadata": {},
   "outputs": [
    {
     "data": {
      "text/plain": [
       "nan"
      ]
     },
     "execution_count": 23,
     "metadata": {},
     "output_type": "execute_result"
    }
   ],
   "source": [
    "0 * np.nan"
   ]
  },
  {
   "cell_type": "code",
   "execution_count": 26,
   "id": "f573559d",
   "metadata": {},
   "outputs": [
    {
     "data": {
      "text/plain": [
       "0       1\n",
       "1     NaN\n",
       "2       2\n",
       "3    None\n",
       "4    <NA>\n",
       "dtype: object"
      ]
     },
     "execution_count": 26,
     "metadata": {},
     "output_type": "execute_result"
    }
   ],
   "source": [
    "import pandas as pd\n",
    "\n",
    "import numpy as np\n",
    "pd.Series([1,np.nan,2,None,pd.NA])"
   ]
  },
  {
   "cell_type": "code",
   "execution_count": 27,
   "id": "52c8f69c",
   "metadata": {},
   "outputs": [
    {
     "data": {
      "text/plain": [
       "0        1\n",
       "1      NaN\n",
       "2    hello\n",
       "3     None\n",
       "dtype: object"
      ]
     },
     "execution_count": 27,
     "metadata": {},
     "output_type": "execute_result"
    }
   ],
   "source": [
    "data=pd.Series([1,np.nan,'hello',None])\n",
    "data\n"
   ]
  },
  {
   "cell_type": "code",
   "execution_count": 28,
   "id": "66117ae0",
   "metadata": {},
   "outputs": [
    {
     "data": {
      "text/plain": [
       "0        1\n",
       "1        0\n",
       "2    hello\n",
       "3        0\n",
       "dtype: object"
      ]
     },
     "execution_count": 28,
     "metadata": {},
     "output_type": "execute_result"
    }
   ],
   "source": [
    "data.fillna(0)"
   ]
  },
  {
   "cell_type": "code",
   "execution_count": 50,
   "id": "01a5863e",
   "metadata": {},
   "outputs": [
    {
     "name": "stderr",
     "output_type": "stream",
     "text": [
      "C:\\Users\\trkro\\AppData\\Local\\Temp\\ipykernel_11720\\4263181853.py:1: DtypeWarning: Columns (8) have mixed types. Specify dtype option on import or set low_memory=False.\n",
      "  df = pd.read_csv('COVID19Cases.csv')\n"
     ]
    },
    {
     "data": {
      "text/html": [
       "<div>\n",
       "<style scoped>\n",
       "    .dataframe tbody tr th:only-of-type {\n",
       "        vertical-align: middle;\n",
       "    }\n",
       "\n",
       "    .dataframe tbody tr th {\n",
       "        vertical-align: top;\n",
       "    }\n",
       "\n",
       "    .dataframe thead th {\n",
       "        text-align: right;\n",
       "    }\n",
       "</style>\n",
       "<table border=\"1\" class=\"dataframe\">\n",
       "  <thead>\n",
       "    <tr style=\"text-align: right;\">\n",
       "      <th></th>\n",
       "      <th>Case_Type</th>\n",
       "      <th>People_Total_Tested_Count</th>\n",
       "      <th>Cases</th>\n",
       "      <th>Difference</th>\n",
       "      <th>Date</th>\n",
       "      <th>Combined_Key</th>\n",
       "      <th>Country_Region</th>\n",
       "      <th>Province_State</th>\n",
       "      <th>Admin2</th>\n",
       "      <th>iso2</th>\n",
       "      <th>iso3</th>\n",
       "      <th>FIPS</th>\n",
       "      <th>Lat</th>\n",
       "      <th>Long</th>\n",
       "      <th>Population_Count</th>\n",
       "      <th>People_Hospitalized_Cumulative_Count</th>\n",
       "      <th>Data_Source</th>\n",
       "      <th>Prep_Flow_Runtime</th>\n",
       "    </tr>\n",
       "  </thead>\n",
       "  <tbody>\n",
       "    <tr>\n",
       "      <th>0</th>\n",
       "      <td>Confirmed</td>\n",
       "      <td>NaN</td>\n",
       "      <td>6</td>\n",
       "      <td>0</td>\n",
       "      <td>5/22/2020</td>\n",
       "      <td>Western Sahara</td>\n",
       "      <td>Western Sahara</td>\n",
       "      <td>NaN</td>\n",
       "      <td>NaN</td>\n",
       "      <td>EH</td>\n",
       "      <td>ESH</td>\n",
       "      <td>NaN</td>\n",
       "      <td>24.215500</td>\n",
       "      <td>-12.885800</td>\n",
       "      <td>597330.0</td>\n",
       "      <td>NaN</td>\n",
       "      <td>2019 Novel Coronavirus COVID-19 (2019-nCoV) Da...</td>\n",
       "      <td>6/4/2020 11:15:39 PM</td>\n",
       "    </tr>\n",
       "    <tr>\n",
       "      <th>1</th>\n",
       "      <td>Confirmed</td>\n",
       "      <td>NaN</td>\n",
       "      <td>0</td>\n",
       "      <td>0</td>\n",
       "      <td>2/3/2020</td>\n",
       "      <td>Switzerland</td>\n",
       "      <td>Switzerland</td>\n",
       "      <td>NaN</td>\n",
       "      <td>NaN</td>\n",
       "      <td>CH</td>\n",
       "      <td>CHE</td>\n",
       "      <td>NaN</td>\n",
       "      <td>46.818200</td>\n",
       "      <td>8.227500</td>\n",
       "      <td>8654618.0</td>\n",
       "      <td>NaN</td>\n",
       "      <td>2019 Novel Coronavirus COVID-19 (2019-nCoV) Da...</td>\n",
       "      <td>6/4/2020 11:15:39 PM</td>\n",
       "    </tr>\n",
       "    <tr>\n",
       "      <th>2</th>\n",
       "      <td>Deaths</td>\n",
       "      <td>NaN</td>\n",
       "      <td>0</td>\n",
       "      <td>0</td>\n",
       "      <td>3/1/2020</td>\n",
       "      <td>Cyprus</td>\n",
       "      <td>Cyprus</td>\n",
       "      <td>NaN</td>\n",
       "      <td>NaN</td>\n",
       "      <td>CY</td>\n",
       "      <td>CYP</td>\n",
       "      <td>NaN</td>\n",
       "      <td>35.126400</td>\n",
       "      <td>33.429900</td>\n",
       "      <td>1207361.0</td>\n",
       "      <td>NaN</td>\n",
       "      <td>2019 Novel Coronavirus COVID-19 (2019-nCoV) Da...</td>\n",
       "      <td>6/4/2020 11:15:39 PM</td>\n",
       "    </tr>\n",
       "    <tr>\n",
       "      <th>3</th>\n",
       "      <td>Confirmed</td>\n",
       "      <td>NaN</td>\n",
       "      <td>23</td>\n",
       "      <td>0</td>\n",
       "      <td>4/21/2020</td>\n",
       "      <td>Antigua and Barbuda</td>\n",
       "      <td>Antigua and Barbuda</td>\n",
       "      <td>NaN</td>\n",
       "      <td>NaN</td>\n",
       "      <td>AG</td>\n",
       "      <td>ATG</td>\n",
       "      <td>NaN</td>\n",
       "      <td>17.060800</td>\n",
       "      <td>-61.796400</td>\n",
       "      <td>97928.0</td>\n",
       "      <td>NaN</td>\n",
       "      <td>2019 Novel Coronavirus COVID-19 (2019-nCoV) Da...</td>\n",
       "      <td>6/4/2020 11:15:39 PM</td>\n",
       "    </tr>\n",
       "    <tr>\n",
       "      <th>4</th>\n",
       "      <td>Deaths</td>\n",
       "      <td>NaN</td>\n",
       "      <td>56</td>\n",
       "      <td>0</td>\n",
       "      <td>5/11/2020</td>\n",
       "      <td>Thailand</td>\n",
       "      <td>Thailand</td>\n",
       "      <td>NaN</td>\n",
       "      <td>NaN</td>\n",
       "      <td>TH</td>\n",
       "      <td>THA</td>\n",
       "      <td>NaN</td>\n",
       "      <td>15.870032</td>\n",
       "      <td>100.992541</td>\n",
       "      <td>69799978.0</td>\n",
       "      <td>NaN</td>\n",
       "      <td>2019 Novel Coronavirus COVID-19 (2019-nCoV) Da...</td>\n",
       "      <td>6/4/2020 11:15:39 PM</td>\n",
       "    </tr>\n",
       "    <tr>\n",
       "      <th>...</th>\n",
       "      <td>...</td>\n",
       "      <td>...</td>\n",
       "      <td>...</td>\n",
       "      <td>...</td>\n",
       "      <td>...</td>\n",
       "      <td>...</td>\n",
       "      <td>...</td>\n",
       "      <td>...</td>\n",
       "      <td>...</td>\n",
       "      <td>...</td>\n",
       "      <td>...</td>\n",
       "      <td>...</td>\n",
       "      <td>...</td>\n",
       "      <td>...</td>\n",
       "      <td>...</td>\n",
       "      <td>...</td>\n",
       "      <td>...</td>\n",
       "      <td>...</td>\n",
       "    </tr>\n",
       "    <tr>\n",
       "      <th>950665</th>\n",
       "      <td>Deaths</td>\n",
       "      <td>NaN</td>\n",
       "      <td>0</td>\n",
       "      <td>0</td>\n",
       "      <td>1/22/2020</td>\n",
       "      <td>Missoula, Montana, US</td>\n",
       "      <td>US</td>\n",
       "      <td>Montana</td>\n",
       "      <td>Missoula</td>\n",
       "      <td>US</td>\n",
       "      <td>USA</td>\n",
       "      <td>30063.0</td>\n",
       "      <td>47.037286</td>\n",
       "      <td>-113.921351</td>\n",
       "      <td>119600.0</td>\n",
       "      <td>NaN</td>\n",
       "      <td>2019 Novel Coronavirus COVID-19 (2019-nCoV) Da...</td>\n",
       "      <td>6/4/2020 11:15:39 PM</td>\n",
       "    </tr>\n",
       "    <tr>\n",
       "      <th>950666</th>\n",
       "      <td>Confirmed</td>\n",
       "      <td>NaN</td>\n",
       "      <td>0</td>\n",
       "      <td>0</td>\n",
       "      <td>1/22/2020</td>\n",
       "      <td>Ontonagon, Michigan, US</td>\n",
       "      <td>US</td>\n",
       "      <td>Michigan</td>\n",
       "      <td>Ontonagon</td>\n",
       "      <td>US</td>\n",
       "      <td>USA</td>\n",
       "      <td>26131.0</td>\n",
       "      <td>46.665226</td>\n",
       "      <td>-89.313905</td>\n",
       "      <td>5720.0</td>\n",
       "      <td>NaN</td>\n",
       "      <td>2019 Novel Coronavirus COVID-19 (2019-nCoV) Da...</td>\n",
       "      <td>6/4/2020 11:15:39 PM</td>\n",
       "    </tr>\n",
       "    <tr>\n",
       "      <th>950667</th>\n",
       "      <td>Deaths</td>\n",
       "      <td>NaN</td>\n",
       "      <td>0</td>\n",
       "      <td>0</td>\n",
       "      <td>1/22/2020</td>\n",
       "      <td>Sargent, North Dakota, US</td>\n",
       "      <td>US</td>\n",
       "      <td>North Dakota</td>\n",
       "      <td>Sargent</td>\n",
       "      <td>US</td>\n",
       "      <td>USA</td>\n",
       "      <td>38081.0</td>\n",
       "      <td>46.108304</td>\n",
       "      <td>-97.632172</td>\n",
       "      <td>3898.0</td>\n",
       "      <td>NaN</td>\n",
       "      <td>2019 Novel Coronavirus COVID-19 (2019-nCoV) Da...</td>\n",
       "      <td>6/4/2020 11:15:39 PM</td>\n",
       "    </tr>\n",
       "    <tr>\n",
       "      <th>950668</th>\n",
       "      <td>Confirmed</td>\n",
       "      <td>NaN</td>\n",
       "      <td>0</td>\n",
       "      <td>0</td>\n",
       "      <td>1/22/2020</td>\n",
       "      <td>Ohio, Kentucky, US</td>\n",
       "      <td>US</td>\n",
       "      <td>Kentucky</td>\n",
       "      <td>Ohio</td>\n",
       "      <td>US</td>\n",
       "      <td>USA</td>\n",
       "      <td>21183.0</td>\n",
       "      <td>37.477518</td>\n",
       "      <td>-86.853681</td>\n",
       "      <td>23994.0</td>\n",
       "      <td>NaN</td>\n",
       "      <td>2019 Novel Coronavirus COVID-19 (2019-nCoV) Da...</td>\n",
       "      <td>6/4/2020 11:15:39 PM</td>\n",
       "    </tr>\n",
       "    <tr>\n",
       "      <th>950669</th>\n",
       "      <td>Confirmed</td>\n",
       "      <td>NaN</td>\n",
       "      <td>0</td>\n",
       "      <td>0</td>\n",
       "      <td>1/22/2020</td>\n",
       "      <td>Marion, Mississippi, US</td>\n",
       "      <td>US</td>\n",
       "      <td>Mississippi</td>\n",
       "      <td>Marion</td>\n",
       "      <td>US</td>\n",
       "      <td>USA</td>\n",
       "      <td>28091.0</td>\n",
       "      <td>31.231326</td>\n",
       "      <td>-89.820922</td>\n",
       "      <td>24573.0</td>\n",
       "      <td>NaN</td>\n",
       "      <td>2019 Novel Coronavirus COVID-19 (2019-nCoV) Da...</td>\n",
       "      <td>6/4/2020 11:15:39 PM</td>\n",
       "    </tr>\n",
       "  </tbody>\n",
       "</table>\n",
       "<p>950670 rows × 18 columns</p>\n",
       "</div>"
      ],
      "text/plain": [
       "        Case_Type  People_Total_Tested_Count  Cases  Difference       Date  \\\n",
       "0       Confirmed                        NaN      6           0  5/22/2020   \n",
       "1       Confirmed                        NaN      0           0   2/3/2020   \n",
       "2          Deaths                        NaN      0           0   3/1/2020   \n",
       "3       Confirmed                        NaN     23           0  4/21/2020   \n",
       "4          Deaths                        NaN     56           0  5/11/2020   \n",
       "...           ...                        ...    ...         ...        ...   \n",
       "950665     Deaths                        NaN      0           0  1/22/2020   \n",
       "950666  Confirmed                        NaN      0           0  1/22/2020   \n",
       "950667     Deaths                        NaN      0           0  1/22/2020   \n",
       "950668  Confirmed                        NaN      0           0  1/22/2020   \n",
       "950669  Confirmed                        NaN      0           0  1/22/2020   \n",
       "\n",
       "                     Combined_Key       Country_Region Province_State  \\\n",
       "0                  Western Sahara       Western Sahara            NaN   \n",
       "1                     Switzerland          Switzerland            NaN   \n",
       "2                          Cyprus               Cyprus            NaN   \n",
       "3             Antigua and Barbuda  Antigua and Barbuda            NaN   \n",
       "4                        Thailand             Thailand            NaN   \n",
       "...                           ...                  ...            ...   \n",
       "950665      Missoula, Montana, US                   US        Montana   \n",
       "950666    Ontonagon, Michigan, US                   US       Michigan   \n",
       "950667  Sargent, North Dakota, US                   US   North Dakota   \n",
       "950668         Ohio, Kentucky, US                   US       Kentucky   \n",
       "950669    Marion, Mississippi, US                   US    Mississippi   \n",
       "\n",
       "           Admin2 iso2 iso3     FIPS        Lat        Long  Population_Count  \\\n",
       "0             NaN   EH  ESH      NaN  24.215500  -12.885800          597330.0   \n",
       "1             NaN   CH  CHE      NaN  46.818200    8.227500         8654618.0   \n",
       "2             NaN   CY  CYP      NaN  35.126400   33.429900         1207361.0   \n",
       "3             NaN   AG  ATG      NaN  17.060800  -61.796400           97928.0   \n",
       "4             NaN   TH  THA      NaN  15.870032  100.992541        69799978.0   \n",
       "...           ...  ...  ...      ...        ...         ...               ...   \n",
       "950665   Missoula   US  USA  30063.0  47.037286 -113.921351          119600.0   \n",
       "950666  Ontonagon   US  USA  26131.0  46.665226  -89.313905            5720.0   \n",
       "950667    Sargent   US  USA  38081.0  46.108304  -97.632172            3898.0   \n",
       "950668       Ohio   US  USA  21183.0  37.477518  -86.853681           23994.0   \n",
       "950669     Marion   US  USA  28091.0  31.231326  -89.820922           24573.0   \n",
       "\n",
       "        People_Hospitalized_Cumulative_Count  \\\n",
       "0                                        NaN   \n",
       "1                                        NaN   \n",
       "2                                        NaN   \n",
       "3                                        NaN   \n",
       "4                                        NaN   \n",
       "...                                      ...   \n",
       "950665                                   NaN   \n",
       "950666                                   NaN   \n",
       "950667                                   NaN   \n",
       "950668                                   NaN   \n",
       "950669                                   NaN   \n",
       "\n",
       "                                              Data_Source  \\\n",
       "0       2019 Novel Coronavirus COVID-19 (2019-nCoV) Da...   \n",
       "1       2019 Novel Coronavirus COVID-19 (2019-nCoV) Da...   \n",
       "2       2019 Novel Coronavirus COVID-19 (2019-nCoV) Da...   \n",
       "3       2019 Novel Coronavirus COVID-19 (2019-nCoV) Da...   \n",
       "4       2019 Novel Coronavirus COVID-19 (2019-nCoV) Da...   \n",
       "...                                                   ...   \n",
       "950665  2019 Novel Coronavirus COVID-19 (2019-nCoV) Da...   \n",
       "950666  2019 Novel Coronavirus COVID-19 (2019-nCoV) Da...   \n",
       "950667  2019 Novel Coronavirus COVID-19 (2019-nCoV) Da...   \n",
       "950668  2019 Novel Coronavirus COVID-19 (2019-nCoV) Da...   \n",
       "950669  2019 Novel Coronavirus COVID-19 (2019-nCoV) Da...   \n",
       "\n",
       "           Prep_Flow_Runtime  \n",
       "0       6/4/2020 11:15:39 PM  \n",
       "1       6/4/2020 11:15:39 PM  \n",
       "2       6/4/2020 11:15:39 PM  \n",
       "3       6/4/2020 11:15:39 PM  \n",
       "4       6/4/2020 11:15:39 PM  \n",
       "...                      ...  \n",
       "950665  6/4/2020 11:15:39 PM  \n",
       "950666  6/4/2020 11:15:39 PM  \n",
       "950667  6/4/2020 11:15:39 PM  \n",
       "950668  6/4/2020 11:15:39 PM  \n",
       "950669  6/4/2020 11:15:39 PM  \n",
       "\n",
       "[950670 rows x 18 columns]"
      ]
     },
     "execution_count": 50,
     "metadata": {},
     "output_type": "execute_result"
    }
   ],
   "source": [
    "df = pd.read_csv('COVID19Cases.csv')\n",
    "df"
   ]
  },
  {
   "cell_type": "code",
   "execution_count": 51,
   "id": "8ae64c95",
   "metadata": {},
   "outputs": [
    {
     "data": {
      "text/html": [
       "<div>\n",
       "<style scoped>\n",
       "    .dataframe tbody tr th:only-of-type {\n",
       "        vertical-align: middle;\n",
       "    }\n",
       "\n",
       "    .dataframe tbody tr th {\n",
       "        vertical-align: top;\n",
       "    }\n",
       "\n",
       "    .dataframe thead th {\n",
       "        text-align: right;\n",
       "    }\n",
       "</style>\n",
       "<table border=\"1\" class=\"dataframe\">\n",
       "  <thead>\n",
       "    <tr style=\"text-align: right;\">\n",
       "      <th></th>\n",
       "      <th>Case_Type</th>\n",
       "      <th>People_Total_Tested_Count</th>\n",
       "      <th>Cases</th>\n",
       "      <th>Difference</th>\n",
       "      <th>Date</th>\n",
       "      <th>Combined_Key</th>\n",
       "      <th>Country_Region</th>\n",
       "      <th>Province_State</th>\n",
       "      <th>Admin2</th>\n",
       "      <th>iso2</th>\n",
       "      <th>iso3</th>\n",
       "      <th>FIPS</th>\n",
       "      <th>Lat</th>\n",
       "      <th>Long</th>\n",
       "      <th>Population_Count</th>\n",
       "      <th>People_Hospitalized_Cumulative_Count</th>\n",
       "      <th>Data_Source</th>\n",
       "      <th>Prep_Flow_Runtime</th>\n",
       "    </tr>\n",
       "  </thead>\n",
       "  <tbody>\n",
       "    <tr>\n",
       "      <th>0</th>\n",
       "      <td>Confirmed</td>\n",
       "      <td>NaN</td>\n",
       "      <td>6</td>\n",
       "      <td>0</td>\n",
       "      <td>5/22/2020</td>\n",
       "      <td>Western Sahara</td>\n",
       "      <td>Western Sahara</td>\n",
       "      <td>NaN</td>\n",
       "      <td>NaN</td>\n",
       "      <td>EH</td>\n",
       "      <td>ESH</td>\n",
       "      <td>NaN</td>\n",
       "      <td>24.215500</td>\n",
       "      <td>-12.885800</td>\n",
       "      <td>597330.0</td>\n",
       "      <td>NaN</td>\n",
       "      <td>2019 Novel Coronavirus COVID-19 (2019-nCoV) Da...</td>\n",
       "      <td>6/4/2020 11:15:39 PM</td>\n",
       "    </tr>\n",
       "    <tr>\n",
       "      <th>1</th>\n",
       "      <td>Confirmed</td>\n",
       "      <td>NaN</td>\n",
       "      <td>0</td>\n",
       "      <td>0</td>\n",
       "      <td>2/3/2020</td>\n",
       "      <td>Switzerland</td>\n",
       "      <td>Switzerland</td>\n",
       "      <td>NaN</td>\n",
       "      <td>NaN</td>\n",
       "      <td>CH</td>\n",
       "      <td>CHE</td>\n",
       "      <td>NaN</td>\n",
       "      <td>46.818200</td>\n",
       "      <td>8.227500</td>\n",
       "      <td>8654618.0</td>\n",
       "      <td>NaN</td>\n",
       "      <td>2019 Novel Coronavirus COVID-19 (2019-nCoV) Da...</td>\n",
       "      <td>6/4/2020 11:15:39 PM</td>\n",
       "    </tr>\n",
       "    <tr>\n",
       "      <th>2</th>\n",
       "      <td>Deaths</td>\n",
       "      <td>NaN</td>\n",
       "      <td>0</td>\n",
       "      <td>0</td>\n",
       "      <td>3/1/2020</td>\n",
       "      <td>Cyprus</td>\n",
       "      <td>Cyprus</td>\n",
       "      <td>NaN</td>\n",
       "      <td>NaN</td>\n",
       "      <td>CY</td>\n",
       "      <td>CYP</td>\n",
       "      <td>NaN</td>\n",
       "      <td>35.126400</td>\n",
       "      <td>33.429900</td>\n",
       "      <td>1207361.0</td>\n",
       "      <td>NaN</td>\n",
       "      <td>2019 Novel Coronavirus COVID-19 (2019-nCoV) Da...</td>\n",
       "      <td>6/4/2020 11:15:39 PM</td>\n",
       "    </tr>\n",
       "    <tr>\n",
       "      <th>3</th>\n",
       "      <td>Confirmed</td>\n",
       "      <td>NaN</td>\n",
       "      <td>23</td>\n",
       "      <td>0</td>\n",
       "      <td>4/21/2020</td>\n",
       "      <td>Antigua and Barbuda</td>\n",
       "      <td>Antigua and Barbuda</td>\n",
       "      <td>NaN</td>\n",
       "      <td>NaN</td>\n",
       "      <td>AG</td>\n",
       "      <td>ATG</td>\n",
       "      <td>NaN</td>\n",
       "      <td>17.060800</td>\n",
       "      <td>-61.796400</td>\n",
       "      <td>97928.0</td>\n",
       "      <td>NaN</td>\n",
       "      <td>2019 Novel Coronavirus COVID-19 (2019-nCoV) Da...</td>\n",
       "      <td>6/4/2020 11:15:39 PM</td>\n",
       "    </tr>\n",
       "    <tr>\n",
       "      <th>4</th>\n",
       "      <td>Deaths</td>\n",
       "      <td>NaN</td>\n",
       "      <td>56</td>\n",
       "      <td>0</td>\n",
       "      <td>5/11/2020</td>\n",
       "      <td>Thailand</td>\n",
       "      <td>Thailand</td>\n",
       "      <td>NaN</td>\n",
       "      <td>NaN</td>\n",
       "      <td>TH</td>\n",
       "      <td>THA</td>\n",
       "      <td>NaN</td>\n",
       "      <td>15.870032</td>\n",
       "      <td>100.992541</td>\n",
       "      <td>69799978.0</td>\n",
       "      <td>NaN</td>\n",
       "      <td>2019 Novel Coronavirus COVID-19 (2019-nCoV) Da...</td>\n",
       "      <td>6/4/2020 11:15:39 PM</td>\n",
       "    </tr>\n",
       "  </tbody>\n",
       "</table>\n",
       "</div>"
      ],
      "text/plain": [
       "   Case_Type  People_Total_Tested_Count  Cases  Difference       Date  \\\n",
       "0  Confirmed                        NaN      6           0  5/22/2020   \n",
       "1  Confirmed                        NaN      0           0   2/3/2020   \n",
       "2     Deaths                        NaN      0           0   3/1/2020   \n",
       "3  Confirmed                        NaN     23           0  4/21/2020   \n",
       "4     Deaths                        NaN     56           0  5/11/2020   \n",
       "\n",
       "          Combined_Key       Country_Region Province_State Admin2 iso2 iso3  \\\n",
       "0       Western Sahara       Western Sahara            NaN    NaN   EH  ESH   \n",
       "1          Switzerland          Switzerland            NaN    NaN   CH  CHE   \n",
       "2               Cyprus               Cyprus            NaN    NaN   CY  CYP   \n",
       "3  Antigua and Barbuda  Antigua and Barbuda            NaN    NaN   AG  ATG   \n",
       "4             Thailand             Thailand            NaN    NaN   TH  THA   \n",
       "\n",
       "   FIPS        Lat        Long  Population_Count  \\\n",
       "0   NaN  24.215500  -12.885800          597330.0   \n",
       "1   NaN  46.818200    8.227500         8654618.0   \n",
       "2   NaN  35.126400   33.429900         1207361.0   \n",
       "3   NaN  17.060800  -61.796400           97928.0   \n",
       "4   NaN  15.870032  100.992541        69799978.0   \n",
       "\n",
       "   People_Hospitalized_Cumulative_Count  \\\n",
       "0                                   NaN   \n",
       "1                                   NaN   \n",
       "2                                   NaN   \n",
       "3                                   NaN   \n",
       "4                                   NaN   \n",
       "\n",
       "                                         Data_Source     Prep_Flow_Runtime  \n",
       "0  2019 Novel Coronavirus COVID-19 (2019-nCoV) Da...  6/4/2020 11:15:39 PM  \n",
       "1  2019 Novel Coronavirus COVID-19 (2019-nCoV) Da...  6/4/2020 11:15:39 PM  \n",
       "2  2019 Novel Coronavirus COVID-19 (2019-nCoV) Da...  6/4/2020 11:15:39 PM  \n",
       "3  2019 Novel Coronavirus COVID-19 (2019-nCoV) Da...  6/4/2020 11:15:39 PM  \n",
       "4  2019 Novel Coronavirus COVID-19 (2019-nCoV) Da...  6/4/2020 11:15:39 PM  "
      ]
     },
     "execution_count": 51,
     "metadata": {},
     "output_type": "execute_result"
    }
   ],
   "source": [
    "df.head(5)"
   ]
  },
  {
   "cell_type": "code",
   "execution_count": 52,
   "id": "14b43bb0",
   "metadata": {},
   "outputs": [
    {
     "data": {
      "text/html": [
       "<div>\n",
       "<style scoped>\n",
       "    .dataframe tbody tr th:only-of-type {\n",
       "        vertical-align: middle;\n",
       "    }\n",
       "\n",
       "    .dataframe tbody tr th {\n",
       "        vertical-align: top;\n",
       "    }\n",
       "\n",
       "    .dataframe thead th {\n",
       "        text-align: right;\n",
       "    }\n",
       "</style>\n",
       "<table border=\"1\" class=\"dataframe\">\n",
       "  <thead>\n",
       "    <tr style=\"text-align: right;\">\n",
       "      <th></th>\n",
       "      <th>Case_Type</th>\n",
       "      <th>People_Total_Tested_Count</th>\n",
       "      <th>Cases</th>\n",
       "      <th>Difference</th>\n",
       "      <th>Date</th>\n",
       "      <th>Combined_Key</th>\n",
       "      <th>Country_Region</th>\n",
       "      <th>Province_State</th>\n",
       "      <th>Admin2</th>\n",
       "      <th>iso2</th>\n",
       "      <th>iso3</th>\n",
       "      <th>FIPS</th>\n",
       "      <th>Lat</th>\n",
       "      <th>Long</th>\n",
       "      <th>Population_Count</th>\n",
       "      <th>People_Hospitalized_Cumulative_Count</th>\n",
       "      <th>Data_Source</th>\n",
       "      <th>Prep_Flow_Runtime</th>\n",
       "    </tr>\n",
       "  </thead>\n",
       "  <tbody>\n",
       "    <tr>\n",
       "      <th>950665</th>\n",
       "      <td>Deaths</td>\n",
       "      <td>NaN</td>\n",
       "      <td>0</td>\n",
       "      <td>0</td>\n",
       "      <td>1/22/2020</td>\n",
       "      <td>Missoula, Montana, US</td>\n",
       "      <td>US</td>\n",
       "      <td>Montana</td>\n",
       "      <td>Missoula</td>\n",
       "      <td>US</td>\n",
       "      <td>USA</td>\n",
       "      <td>30063.0</td>\n",
       "      <td>47.037286</td>\n",
       "      <td>-113.921351</td>\n",
       "      <td>119600.0</td>\n",
       "      <td>NaN</td>\n",
       "      <td>2019 Novel Coronavirus COVID-19 (2019-nCoV) Da...</td>\n",
       "      <td>6/4/2020 11:15:39 PM</td>\n",
       "    </tr>\n",
       "    <tr>\n",
       "      <th>950666</th>\n",
       "      <td>Confirmed</td>\n",
       "      <td>NaN</td>\n",
       "      <td>0</td>\n",
       "      <td>0</td>\n",
       "      <td>1/22/2020</td>\n",
       "      <td>Ontonagon, Michigan, US</td>\n",
       "      <td>US</td>\n",
       "      <td>Michigan</td>\n",
       "      <td>Ontonagon</td>\n",
       "      <td>US</td>\n",
       "      <td>USA</td>\n",
       "      <td>26131.0</td>\n",
       "      <td>46.665226</td>\n",
       "      <td>-89.313905</td>\n",
       "      <td>5720.0</td>\n",
       "      <td>NaN</td>\n",
       "      <td>2019 Novel Coronavirus COVID-19 (2019-nCoV) Da...</td>\n",
       "      <td>6/4/2020 11:15:39 PM</td>\n",
       "    </tr>\n",
       "    <tr>\n",
       "      <th>950667</th>\n",
       "      <td>Deaths</td>\n",
       "      <td>NaN</td>\n",
       "      <td>0</td>\n",
       "      <td>0</td>\n",
       "      <td>1/22/2020</td>\n",
       "      <td>Sargent, North Dakota, US</td>\n",
       "      <td>US</td>\n",
       "      <td>North Dakota</td>\n",
       "      <td>Sargent</td>\n",
       "      <td>US</td>\n",
       "      <td>USA</td>\n",
       "      <td>38081.0</td>\n",
       "      <td>46.108304</td>\n",
       "      <td>-97.632172</td>\n",
       "      <td>3898.0</td>\n",
       "      <td>NaN</td>\n",
       "      <td>2019 Novel Coronavirus COVID-19 (2019-nCoV) Da...</td>\n",
       "      <td>6/4/2020 11:15:39 PM</td>\n",
       "    </tr>\n",
       "    <tr>\n",
       "      <th>950668</th>\n",
       "      <td>Confirmed</td>\n",
       "      <td>NaN</td>\n",
       "      <td>0</td>\n",
       "      <td>0</td>\n",
       "      <td>1/22/2020</td>\n",
       "      <td>Ohio, Kentucky, US</td>\n",
       "      <td>US</td>\n",
       "      <td>Kentucky</td>\n",
       "      <td>Ohio</td>\n",
       "      <td>US</td>\n",
       "      <td>USA</td>\n",
       "      <td>21183.0</td>\n",
       "      <td>37.477518</td>\n",
       "      <td>-86.853681</td>\n",
       "      <td>23994.0</td>\n",
       "      <td>NaN</td>\n",
       "      <td>2019 Novel Coronavirus COVID-19 (2019-nCoV) Da...</td>\n",
       "      <td>6/4/2020 11:15:39 PM</td>\n",
       "    </tr>\n",
       "    <tr>\n",
       "      <th>950669</th>\n",
       "      <td>Confirmed</td>\n",
       "      <td>NaN</td>\n",
       "      <td>0</td>\n",
       "      <td>0</td>\n",
       "      <td>1/22/2020</td>\n",
       "      <td>Marion, Mississippi, US</td>\n",
       "      <td>US</td>\n",
       "      <td>Mississippi</td>\n",
       "      <td>Marion</td>\n",
       "      <td>US</td>\n",
       "      <td>USA</td>\n",
       "      <td>28091.0</td>\n",
       "      <td>31.231326</td>\n",
       "      <td>-89.820922</td>\n",
       "      <td>24573.0</td>\n",
       "      <td>NaN</td>\n",
       "      <td>2019 Novel Coronavirus COVID-19 (2019-nCoV) Da...</td>\n",
       "      <td>6/4/2020 11:15:39 PM</td>\n",
       "    </tr>\n",
       "  </tbody>\n",
       "</table>\n",
       "</div>"
      ],
      "text/plain": [
       "        Case_Type  People_Total_Tested_Count  Cases  Difference       Date  \\\n",
       "950665     Deaths                        NaN      0           0  1/22/2020   \n",
       "950666  Confirmed                        NaN      0           0  1/22/2020   \n",
       "950667     Deaths                        NaN      0           0  1/22/2020   \n",
       "950668  Confirmed                        NaN      0           0  1/22/2020   \n",
       "950669  Confirmed                        NaN      0           0  1/22/2020   \n",
       "\n",
       "                     Combined_Key Country_Region Province_State     Admin2  \\\n",
       "950665      Missoula, Montana, US             US        Montana   Missoula   \n",
       "950666    Ontonagon, Michigan, US             US       Michigan  Ontonagon   \n",
       "950667  Sargent, North Dakota, US             US   North Dakota    Sargent   \n",
       "950668         Ohio, Kentucky, US             US       Kentucky       Ohio   \n",
       "950669    Marion, Mississippi, US             US    Mississippi     Marion   \n",
       "\n",
       "       iso2 iso3     FIPS        Lat        Long  Population_Count  \\\n",
       "950665   US  USA  30063.0  47.037286 -113.921351          119600.0   \n",
       "950666   US  USA  26131.0  46.665226  -89.313905            5720.0   \n",
       "950667   US  USA  38081.0  46.108304  -97.632172            3898.0   \n",
       "950668   US  USA  21183.0  37.477518  -86.853681           23994.0   \n",
       "950669   US  USA  28091.0  31.231326  -89.820922           24573.0   \n",
       "\n",
       "        People_Hospitalized_Cumulative_Count  \\\n",
       "950665                                   NaN   \n",
       "950666                                   NaN   \n",
       "950667                                   NaN   \n",
       "950668                                   NaN   \n",
       "950669                                   NaN   \n",
       "\n",
       "                                              Data_Source  \\\n",
       "950665  2019 Novel Coronavirus COVID-19 (2019-nCoV) Da...   \n",
       "950666  2019 Novel Coronavirus COVID-19 (2019-nCoV) Da...   \n",
       "950667  2019 Novel Coronavirus COVID-19 (2019-nCoV) Da...   \n",
       "950668  2019 Novel Coronavirus COVID-19 (2019-nCoV) Da...   \n",
       "950669  2019 Novel Coronavirus COVID-19 (2019-nCoV) Da...   \n",
       "\n",
       "           Prep_Flow_Runtime  \n",
       "950665  6/4/2020 11:15:39 PM  \n",
       "950666  6/4/2020 11:15:39 PM  \n",
       "950667  6/4/2020 11:15:39 PM  \n",
       "950668  6/4/2020 11:15:39 PM  \n",
       "950669  6/4/2020 11:15:39 PM  "
      ]
     },
     "execution_count": 52,
     "metadata": {},
     "output_type": "execute_result"
    }
   ],
   "source": [
    "df.tail(5)"
   ]
  },
  {
   "cell_type": "code",
   "execution_count": 53,
   "id": "39eb597b",
   "metadata": {},
   "outputs": [
    {
     "data": {
      "text/plain": [
       "Index(['Case_Type', 'People_Total_Tested_Count', 'Cases', 'Difference', 'Date',\n",
       "       'Combined_Key', 'Country_Region', 'Province_State', 'Admin2', 'iso2',\n",
       "       'iso3', 'FIPS', 'Lat', 'Long', 'Population_Count',\n",
       "       'People_Hospitalized_Cumulative_Count', 'Data_Source',\n",
       "       'Prep_Flow_Runtime'],\n",
       "      dtype='object')"
      ]
     },
     "execution_count": 53,
     "metadata": {},
     "output_type": "execute_result"
    }
   ],
   "source": [
    "df.columns"
   ]
  },
  {
   "cell_type": "code",
   "execution_count": 61,
   "id": "6c8f0e12",
   "metadata": {},
   "outputs": [
    {
     "data": {
      "text/plain": [
       "0         True\n",
       "1         True\n",
       "2         True\n",
       "3         True\n",
       "4         True\n",
       "          ... \n",
       "950665    True\n",
       "950666    True\n",
       "950667    True\n",
       "950668    True\n",
       "950669    True\n",
       "Name: People_Total_Tested_Count, Length: 950670, dtype: bool"
      ]
     },
     "execution_count": 61,
     "metadata": {},
     "output_type": "execute_result"
    }
   ],
   "source": [
    "df.People_Total_Tested_Count"
   ]
  },
  {
   "cell_type": "code",
   "execution_count": 62,
   "id": "d3206c68",
   "metadata": {},
   "outputs": [
    {
     "data": {
      "text/plain": [
       "0         True\n",
       "1         True\n",
       "2         True\n",
       "3         True\n",
       "4         True\n",
       "          ... \n",
       "950665    True\n",
       "950666    True\n",
       "950667    True\n",
       "950668    True\n",
       "950669    True\n",
       "Name: People_Total_Tested_Count, Length: 950670, dtype: bool"
      ]
     },
     "execution_count": 62,
     "metadata": {},
     "output_type": "execute_result"
    }
   ],
   "source": [
    "df.People_Total_Tested_Count.isnull()"
   ]
  },
  {
   "cell_type": "code",
   "execution_count": 63,
   "id": "0e2f7199",
   "metadata": {},
   "outputs": [
    {
     "data": {
      "text/plain": [
       "944622"
      ]
     },
     "execution_count": 63,
     "metadata": {},
     "output_type": "execute_result"
    }
   ],
   "source": [
    "df.People_Total_Tested_Count.isnull().sum()"
   ]
  },
  {
   "cell_type": "code",
   "execution_count": 64,
   "id": "8b6f55c3",
   "metadata": {},
   "outputs": [
    {
     "data": {
      "text/plain": [
       "0        NaN\n",
       "1        NaN\n",
       "2        NaN\n",
       "3        NaN\n",
       "4        NaN\n",
       "          ..\n",
       "950665   NaN\n",
       "950666   NaN\n",
       "950667   NaN\n",
       "950668   NaN\n",
       "950669   NaN\n",
       "Name: People_Hospitalized_Cumulative_Count, Length: 950670, dtype: float64"
      ]
     },
     "execution_count": 64,
     "metadata": {},
     "output_type": "execute_result"
    }
   ],
   "source": [
    "df.People_Hospitalized_Cumulative_Count"
   ]
  },
  {
   "cell_type": "code",
   "execution_count": 65,
   "id": "b07a5ffe",
   "metadata": {},
   "outputs": [
    {
     "data": {
      "text/plain": [
       "0         True\n",
       "1         True\n",
       "2         True\n",
       "3         True\n",
       "4         True\n",
       "          ... \n",
       "950665    True\n",
       "950666    True\n",
       "950667    True\n",
       "950668    True\n",
       "950669    True\n",
       "Name: People_Hospitalized_Cumulative_Count, Length: 950670, dtype: bool"
      ]
     },
     "execution_count": 65,
     "metadata": {},
     "output_type": "execute_result"
    }
   ],
   "source": [
    "df.People_Hospitalized_Cumulative_Count.isnull()"
   ]
  },
  {
   "cell_type": "code",
   "execution_count": 66,
   "id": "7df445d8",
   "metadata": {},
   "outputs": [
    {
     "data": {
      "text/plain": [
       "944622"
      ]
     },
     "execution_count": 66,
     "metadata": {},
     "output_type": "execute_result"
    }
   ],
   "source": [
    "df.People_Hospitalized_Cumulative_Count.isnull().sum()"
   ]
  },
  {
   "cell_type": "code",
   "execution_count": 67,
   "id": "87cbebea",
   "metadata": {},
   "outputs": [
    {
     "data": {
      "text/plain": [
       "0          True\n",
       "1          True\n",
       "2          True\n",
       "3          True\n",
       "4          True\n",
       "          ...  \n",
       "950665    False\n",
       "950666    False\n",
       "950667    False\n",
       "950668    False\n",
       "950669    False\n",
       "Name: Province_State, Length: 950670, dtype: bool"
      ]
     },
     "execution_count": 67,
     "metadata": {},
     "output_type": "execute_result"
    }
   ],
   "source": [
    "df.Province_State.isnull()"
   ]
  },
  {
   "cell_type": "code",
   "execution_count": 68,
   "id": "e8d94285",
   "metadata": {},
   "outputs": [
    {
     "data": {
      "text/plain": [
       "49410"
      ]
     },
     "execution_count": 68,
     "metadata": {},
     "output_type": "execute_result"
    }
   ],
   "source": [
    "df.Province_State.isnull().sum()"
   ]
  },
  {
   "cell_type": "code",
   "execution_count": 69,
   "id": "379507cd",
   "metadata": {},
   "outputs": [
    {
     "data": {
      "text/plain": [
       "0        NaN\n",
       "1        NaN\n",
       "2        NaN\n",
       "3        NaN\n",
       "4        NaN\n",
       "          ..\n",
       "950665   NaN\n",
       "950666   NaN\n",
       "950667   NaN\n",
       "950668   NaN\n",
       "950669   NaN\n",
       "Name: People_Total_Tested_Count, Length: 950670, dtype: float64"
      ]
     },
     "execution_count": 69,
     "metadata": {},
     "output_type": "execute_result"
    }
   ],
   "source": [
    "df.People_Total_Tested_Count"
   ]
  },
  {
   "cell_type": "code",
   "execution_count": 70,
   "id": "1ca41e7a",
   "metadata": {},
   "outputs": [
    {
     "data": {
      "text/plain": [
       "0         False\n",
       "1         False\n",
       "2         False\n",
       "3         False\n",
       "4         False\n",
       "          ...  \n",
       "950665    False\n",
       "950666    False\n",
       "950667    False\n",
       "950668    False\n",
       "950669    False\n",
       "Name: People_Total_Tested_Count, Length: 950670, dtype: bool"
      ]
     },
     "execution_count": 70,
     "metadata": {},
     "output_type": "execute_result"
    }
   ],
   "source": [
    "df.People_Total_Tested_Count.notnull()"
   ]
  },
  {
   "cell_type": "code",
   "execution_count": 71,
   "id": "345160da",
   "metadata": {},
   "outputs": [
    {
     "data": {
      "text/plain": [
       "Series([], dtype: object)"
      ]
     },
     "execution_count": 71,
     "metadata": {},
     "output_type": "execute_result"
    }
   ],
   "source": [
    "data[df.People_Total_Tested_Count.notnull()]"
   ]
  },
  {
   "cell_type": "code",
   "execution_count": null,
   "id": "a5288eb8",
   "metadata": {},
   "outputs": [],
   "source": [
    "data[data.notnull()]"
   ]
  },
  {
   "cell_type": "code",
   "execution_count": 74,
   "id": "a208493d",
   "metadata": {},
   "outputs": [
    {
     "data": {
      "text/plain": [
       "0        1\n",
       "2    hello\n",
       "dtype: object"
      ]
     },
     "execution_count": 74,
     "metadata": {},
     "output_type": "execute_result"
    }
   ],
   "source": [
    "data[data.notnull()]"
   ]
  },
  {
   "cell_type": "code",
   "execution_count": null,
   "id": "14e2fb9e",
   "metadata": {},
   "outputs": [],
   "source": []
  },
  {
   "cell_type": "code",
   "execution_count": 72,
   "id": "c4782aea",
   "metadata": {},
   "outputs": [
    {
     "data": {
      "text/plain": [
       "0        1\n",
       "1      NaN\n",
       "2    hello\n",
       "3     None\n",
       "dtype: object"
      ]
     },
     "execution_count": 72,
     "metadata": {},
     "output_type": "execute_result"
    }
   ],
   "source": [
    "data"
   ]
  },
  {
   "cell_type": "code",
   "execution_count": 77,
   "id": "d2457d1f",
   "metadata": {},
   "outputs": [
    {
     "data": {
      "text/plain": [
       "67173     151810.0\n",
       "67256       2873.0\n",
       "67499     959071.0\n",
       "67509     581944.0\n",
       "67567      17850.0\n",
       "            ...   \n",
       "949461    103768.0\n",
       "949484    105326.0\n",
       "949566     80896.0\n",
       "949648    422904.0\n",
       "949751     30596.0\n",
       "Name: People_Total_Tested_Count, Length: 6048, dtype: float64"
      ]
     },
     "execution_count": 77,
     "metadata": {},
     "output_type": "execute_result"
    }
   ],
   "source": [
    "data1 = df.People_Total_Tested_Count.dropna()\n",
    "data1"
   ]
  },
  {
   "cell_type": "code",
   "execution_count": 79,
   "id": "6a24dac7",
   "metadata": {},
   "outputs": [
    {
     "data": {
      "text/plain": [
       "1011828034.0"
      ]
     },
     "execution_count": 79,
     "metadata": {},
     "output_type": "execute_result"
    }
   ],
   "source": [
    "data1 = df.People_Total_Tested_Count.dropna().sum()\n",
    "data1"
   ]
  },
  {
   "cell_type": "code",
   "execution_count": 80,
   "id": "8441e0a1",
   "metadata": {},
   "outputs": [
    {
     "data": {
      "text/plain": [
       "6048"
      ]
     },
     "execution_count": 80,
     "metadata": {},
     "output_type": "execute_result"
    }
   ],
   "source": [
    "data1 = df.People_Total_Tested_Count.dropna().count()\n",
    "data1"
   ]
  },
  {
   "cell_type": "code",
   "execution_count": 81,
   "id": "edd3371b",
   "metadata": {},
   "outputs": [
    {
     "data": {
      "text/plain": [
       "0         0.0\n",
       "1         0.0\n",
       "2         0.0\n",
       "3         0.0\n",
       "4         0.0\n",
       "         ... \n",
       "950665    0.0\n",
       "950666    0.0\n",
       "950667    0.0\n",
       "950668    0.0\n",
       "950669    0.0\n",
       "Name: People_Total_Tested_Count, Length: 950670, dtype: float64"
      ]
     },
     "execution_count": 81,
     "metadata": {},
     "output_type": "execute_result"
    }
   ],
   "source": [
    "data2 = df.People_Total_Tested_Count.fillna(0)\n",
    "data2\n"
   ]
  },
  {
   "cell_type": "code",
   "execution_count": 82,
   "id": "0f54826e",
   "metadata": {},
   "outputs": [
    {
     "ename": "TypeError",
     "evalue": "Series.count() takes 1 positional argument but 2 were given",
     "output_type": "error",
     "traceback": [
      "\u001b[1;31m---------------------------------------------------------------------------\u001b[0m",
      "\u001b[1;31mTypeError\u001b[0m                                 Traceback (most recent call last)",
      "Cell \u001b[1;32mIn[82], line 1\u001b[0m\n\u001b[1;32m----> 1\u001b[0m data2\u001b[38;5;241m.\u001b[39mcount(\u001b[38;5;241m0\u001b[39m)\n",
      "\u001b[1;31mTypeError\u001b[0m: Series.count() takes 1 positional argument but 2 were given"
     ]
    }
   ],
   "source": []
  },
  {
   "cell_type": "code",
   "execution_count": null,
   "id": "fde1ed3e",
   "metadata": {},
   "outputs": [],
   "source": []
  }
 ],
 "metadata": {
  "kernelspec": {
   "display_name": "Python 3 (ipykernel)",
   "language": "python",
   "name": "python3"
  },
  "language_info": {
   "codemirror_mode": {
    "name": "ipython",
    "version": 3
   },
   "file_extension": ".py",
   "mimetype": "text/x-python",
   "name": "python",
   "nbconvert_exporter": "python",
   "pygments_lexer": "ipython3",
   "version": "3.11.5"
  }
 },
 "nbformat": 4,
 "nbformat_minor": 5
}
