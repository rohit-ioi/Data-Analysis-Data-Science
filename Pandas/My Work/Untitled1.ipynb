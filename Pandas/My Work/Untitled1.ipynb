{
 "cells": [
  {
   "cell_type": "code",
   "execution_count": 1,
   "id": "be647f2e",
   "metadata": {},
   "outputs": [
    {
     "data": {
      "text/plain": [
       "768"
      ]
     },
     "execution_count": 1,
     "metadata": {},
     "output_type": "execute_result"
    }
   ],
   "source": [
    "l1 = [\"sumit\", \"mitesh\", 636, \"hello\", 3+4j, 768]\n",
    "l1[5]\n"
   ]
  },
  {
   "cell_type": "code",
   "execution_count": 2,
   "id": "80cdaea7",
   "metadata": {},
   "outputs": [
    {
     "data": {
      "text/plain": [
       "'a'"
      ]
     },
     "execution_count": 2,
     "metadata": {},
     "output_type": "execute_result"
    }
   ],
   "source": [
    "l = [\"data\", \"science\", True, 1234, 2+3j, \"Sumit\"]\n",
    "l[0][1]"
   ]
  },
  {
   "cell_type": "code",
   "execution_count": 3,
   "id": "f85027eb",
   "metadata": {},
   "outputs": [
    {
     "data": {
      "text/plain": [
       "'datascience'"
      ]
     },
     "execution_count": 3,
     "metadata": {},
     "output_type": "execute_result"
    }
   ],
   "source": [
    "l[0]+l[1]"
   ]
  },
  {
   "cell_type": "code",
   "execution_count": 4,
   "id": "8e25453f",
   "metadata": {},
   "outputs": [
    {
     "data": {
      "text/plain": [
       "'data science'"
      ]
     },
     "execution_count": 4,
     "metadata": {},
     "output_type": "execute_result"
    }
   ],
   "source": [
    "l[0]+\" \"+ l[1]"
   ]
  },
  {
   "cell_type": "code",
   "execution_count": 5,
   "id": "b2a7648f",
   "metadata": {},
   "outputs": [
    {
     "ename": "TypeError",
     "evalue": "'str' object does not support item assignment",
     "output_type": "error",
     "traceback": [
      "\u001b[1;31m---------------------------------------------------------------------------\u001b[0m",
      "\u001b[1;31mTypeError\u001b[0m                                 Traceback (most recent call last)",
      "Cell \u001b[1;32mIn[5], line 2\u001b[0m\n\u001b[0;32m      1\u001b[0m s \u001b[38;5;241m=\u001b[39m \u001b[38;5;124m\"\u001b[39m\u001b[38;5;124mRohit\u001b[39m\u001b[38;5;124m\"\u001b[39m\n\u001b[1;32m----> 2\u001b[0m s[\u001b[38;5;241m0\u001b[39m] \u001b[38;5;241m=\u001b[39m \u001b[38;5;124m\"\u001b[39m\u001b[38;5;124mM\u001b[39m\u001b[38;5;124m\"\u001b[39m\n\u001b[0;32m      3\u001b[0m s\n",
      "\u001b[1;31mTypeError\u001b[0m: 'str' object does not support item assignment"
     ]
    }
   ],
   "source": [
    "s = \"Rohit\"\n",
    "s[0] = \"M\"\n",
    "s"
   ]
  },
  {
   "cell_type": "code",
   "execution_count": 6,
   "id": "59700677",
   "metadata": {},
   "outputs": [
    {
     "data": {
      "text/plain": [
       "'Hello'"
      ]
     },
     "execution_count": 6,
     "metadata": {},
     "output_type": "execute_result"
    }
   ],
   "source": [
    "s = \"Rohit\"\n",
    "s = \"Hello\"\n",
    "s\n",
    "\n"
   ]
  },
  {
   "cell_type": "code",
   "execution_count": 7,
   "id": "cffdd68e",
   "metadata": {},
   "outputs": [
    {
     "data": {
      "text/plain": [
       "['Hii', 'Rohit', 1242, 34.5, True, 'Mitesh']"
      ]
     },
     "execution_count": 7,
     "metadata": {},
     "output_type": "execute_result"
    }
   ],
   "source": [
    "m = [\"Hii\", \"Rohit\", 1242, 34.5, True, \"hello\"]\n",
    "m[5] = \"Mitesh\"\n",
    "m"
   ]
  },
  {
   "cell_type": "code",
   "execution_count": 9,
   "id": "552bd056",
   "metadata": {},
   "outputs": [
    {
     "data": {
      "text/plain": [
       "['Hii', 'Rohit', 1242, 34.5, True, 'Imran']"
      ]
     },
     "execution_count": 9,
     "metadata": {},
     "output_type": "execute_result"
    }
   ],
   "source": [
    "m[5] = \"Imran\"\n",
    "m"
   ]
  },
  {
   "cell_type": "code",
   "execution_count": 10,
   "id": "5b190955",
   "metadata": {},
   "outputs": [
    {
     "data": {
      "text/plain": [
       "['hnkewnf', 324, 3.4, 'rohit', 89]"
      ]
     },
     "execution_count": 10,
     "metadata": {},
     "output_type": "execute_result"
    }
   ],
   "source": [
    "m = \"jhguiadhiudh\"\n",
    "l1 = [\"hnkewnf\", 324, 3.4, \"rohit\"]\n",
    "l1.append(89)\n",
    "l1"
   ]
  },
  {
   "cell_type": "code",
   "execution_count": 12,
   "id": "b7af37f8",
   "metadata": {},
   "outputs": [
    {
     "data": {
      "text/plain": [
       "['hnkewnf', 324, 3.4, 'rohit']"
      ]
     },
     "execution_count": 12,
     "metadata": {},
     "output_type": "execute_result"
    }
   ],
   "source": [
    "l1.pop(4)\n",
    "l1"
   ]
  },
  {
   "cell_type": "code",
   "execution_count": 13,
   "id": "d21d9a78",
   "metadata": {},
   "outputs": [
    {
     "data": {
      "text/plain": [
       "['Rohit', 342, 344.3, 'Rohit', 'mitesh']"
      ]
     },
     "execution_count": 13,
     "metadata": {},
     "output_type": "execute_result"
    }
   ],
   "source": [
    "l3 = [\"Rohit\", 342, 344.3, \"mitesh\"]\n",
    "l3.insert(3, \"Rohit\")\n",
    "l3"
   ]
  },
  {
   "cell_type": "code",
   "execution_count": 14,
   "id": "82fa06f5",
   "metadata": {},
   "outputs": [
    {
     "data": {
      "text/plain": [
       "['Rohit', 342, 344.3, 'Rohit', 'Imran Sir', 'mitesh']"
      ]
     },
     "execution_count": 14,
     "metadata": {},
     "output_type": "execute_result"
    }
   ],
   "source": [
    "l3.insert(4,\"Imran Sir\")\n",
    "l3"
   ]
  },
  {
   "cell_type": "code",
   "execution_count": 15,
   "id": "29cce48e",
   "metadata": {},
   "outputs": [
    {
     "data": {
      "text/plain": [
       "['Rohit', 342, 344.3, 'Rohit', 'Imran Sir', 'Hello World', 'mitesh']"
      ]
     },
     "execution_count": 15,
     "metadata": {},
     "output_type": "execute_result"
    }
   ],
   "source": [
    "l3.insert(5,  \"Hello World\")\n",
    "l3"
   ]
  },
  {
   "cell_type": "code",
   "execution_count": 16,
   "id": "c871da8c",
   "metadata": {},
   "outputs": [
    {
     "data": {
      "text/plain": [
       "['mitesh', 'Hello World', 'Imran Sir', 'Rohit', 344.3, 342, 'Rohit']"
      ]
     },
     "execution_count": 16,
     "metadata": {},
     "output_type": "execute_result"
    }
   ],
   "source": [
    "l3.reverse()\n",
    "l3"
   ]
  },
  {
   "cell_type": "code",
   "execution_count": 17,
   "id": "6a1422fa",
   "metadata": {},
   "outputs": [
    {
     "data": {
      "text/plain": [
       "4"
      ]
     },
     "execution_count": 17,
     "metadata": {},
     "output_type": "execute_result"
    }
   ],
   "source": [
    "l4 = [1232, \"rohit\", \"mohit\", [1,2,3,4,4,55,6], 3242, 2343.5345]\n",
    "l4[3][3]"
   ]
  },
  {
   "cell_type": "code",
   "execution_count": 19,
   "id": "a27a6369",
   "metadata": {},
   "outputs": [
    {
     "data": {
      "text/plain": [
       "[1232,\n",
       " 'rohit',\n",
       " 'mohit',\n",
       " [1, 2, 3, 4, 4, 55, 6],\n",
       " 3242,\n",
       " 2343.5345,\n",
       " 2,\n",
       " 4,\n",
       " 5,\n",
       " 6,\n",
       " 'Rohit',\n",
       " 'Mitesh',\n",
       " 2,\n",
       " 4,\n",
       " 5,\n",
       " 6,\n",
       " 'Rohit',\n",
       " 'Mitesh',\n",
       " 2,\n",
       " 4,\n",
       " 5,\n",
       " 6,\n",
       " 'Rohit',\n",
       " 'Mitesh',\n",
       " 2,\n",
       " 4,\n",
       " 5,\n",
       " 6,\n",
       " 'Rohit',\n",
       " 'Mitesh']"
      ]
     },
     "execution_count": 19,
     "metadata": {},
     "output_type": "execute_result"
    }
   ],
   "source": [
    "l4.extend([2,4,5,6,\"Rohit\", \"Mitesh\"]*3)\n",
    "\n",
    "l4"
   ]
  },
  {
   "cell_type": "code",
   "execution_count": 20,
   "id": "9fed51a7",
   "metadata": {},
   "outputs": [],
   "source": [
    "l5 = [3.5,6,7,\"rohit\", \"Hello World\", \"Mitesh\", [2,5,7,32,64, \"Nischay\"], 343, \"Hiiiii\"]\n",
    "l5.reverse()"
   ]
  },
  {
   "cell_type": "code",
   "execution_count": 21,
   "id": "0db05318",
   "metadata": {},
   "outputs": [
    {
     "data": {
      "text/plain": [
       "['Hiiiii',\n",
       " 343,\n",
       " [2, 5, 7, 32, 64, 'Nischay'],\n",
       " 'Mitesh',\n",
       " 'Hello World',\n",
       " 'rohit',\n",
       " 7,\n",
       " 6,\n",
       " 3.5]"
      ]
     },
     "execution_count": 21,
     "metadata": {},
     "output_type": "execute_result"
    }
   ],
   "source": [
    "l5"
   ]
  },
  {
   "cell_type": "code",
   "execution_count": 22,
   "id": "23bd5cb6",
   "metadata": {},
   "outputs": [
    {
     "data": {
      "text/plain": [
       "['Hiiiii',\n",
       " 343,\n",
       " [2, 5, 7, 32, 64, 'Nischay'],\n",
       " 'Mitesh',\n",
       " 'Hello World',\n",
       " 'rohit',\n",
       " 7,\n",
       " 6,\n",
       " 3.5]"
      ]
     },
     "execution_count": 22,
     "metadata": {},
     "output_type": "execute_result"
    }
   ],
   "source": [
    "l5"
   ]
  },
  {
   "cell_type": "code",
   "execution_count": 34,
   "id": "f9a4b596",
   "metadata": {},
   "outputs": [
    {
     "data": {
      "text/plain": [
       "[232, 353, 'Rohit', 'Mitesh', 'sudh']"
      ]
     },
     "execution_count": 34,
     "metadata": {},
     "output_type": "execute_result"
    }
   ],
   "source": [
    "l9 = [232,353,\"Rohit\", \"Mitesh\"]\n",
    "l10=l9 + list([\"sudh\"])\n",
    "l9 + ['sudh']\n",
    "l10"
   ]
  },
  {
   "cell_type": "code",
   "execution_count": 35,
   "id": "deb26381",
   "metadata": {},
   "outputs": [
    {
     "data": {
      "text/plain": [
       "{1231, 3453, 'Kumr', 'Rohiit'}"
      ]
     },
     "execution_count": 35,
     "metadata": {},
     "output_type": "execute_result"
    }
   ],
   "source": [
    "l = (1231,3453,\"Rohiit\", \"Kumr\")\n",
    "t1 = set(l)\n",
    "t1"
   ]
  },
  {
   "cell_type": "code",
   "execution_count": 36,
   "id": "7c0cbc1f",
   "metadata": {},
   "outputs": [
    {
     "data": {
      "text/plain": [
       "set"
      ]
     },
     "execution_count": 36,
     "metadata": {},
     "output_type": "execute_result"
    }
   ],
   "source": [
    "type(t1)"
   ]
  },
  {
   "cell_type": "code",
   "execution_count": 37,
   "id": "2aebe72b",
   "metadata": {},
   "outputs": [
    {
     "data": {
      "text/plain": [
       "{1, 2, 3, 5, 6, 7, 8, 78, 222}"
      ]
     },
     "execution_count": 37,
     "metadata": {},
     "output_type": "execute_result"
    }
   ],
   "source": [
    "s2 = {1,222,2,2,2,2,3,3,5,6,78,8,8,8,7}\n",
    "s2"
   ]
  },
  {
   "cell_type": "code",
   "execution_count": 38,
   "id": "7e5cfdf6",
   "metadata": {},
   "outputs": [
    {
     "data": {
      "text/plain": [
       "{1, 2, 3, 5, 6, 7, 8, 78, 222, 23235}"
      ]
     },
     "execution_count": 38,
     "metadata": {},
     "output_type": "execute_result"
    }
   ],
   "source": [
    "s2.add(23235)\n",
    "s2"
   ]
  },
  {
   "cell_type": "code",
   "execution_count": 39,
   "id": "c573dc28",
   "metadata": {},
   "outputs": [
    {
     "data": {
      "text/plain": [
       "{1, 2, 222, 23235, 3, 5, 6, 7, 78, 8, 'pwioi'}"
      ]
     },
     "execution_count": 39,
     "metadata": {},
     "output_type": "execute_result"
    }
   ],
   "source": [
    "s2.add(\"pwioi\")\n",
    "s2"
   ]
  },
  {
   "cell_type": "code",
   "execution_count": 40,
   "id": "503ad4c2",
   "metadata": {
    "scrolled": true
   },
   "outputs": [
    {
     "ename": "TypeError",
     "evalue": "unhashable type: 'list'",
     "output_type": "error",
     "traceback": [
      "\u001b[1;31m---------------------------------------------------------------------------\u001b[0m",
      "\u001b[1;31mTypeError\u001b[0m                                 Traceback (most recent call last)",
      "Cell \u001b[1;32mIn[40], line 1\u001b[0m\n\u001b[1;32m----> 1\u001b[0m s2\u001b[38;5;241m.\u001b[39madd([\u001b[38;5;241m3\u001b[39m,\u001b[38;5;241m4\u001b[39m,\u001b[38;5;241m5\u001b[39m,\u001b[38;5;241m3\u001b[39m,\u001b[38;5;124m\"\u001b[39m\u001b[38;5;124mROHIT\u001b[39m\u001b[38;5;124m\"\u001b[39m])\n\u001b[0;32m      2\u001b[0m s2\n",
      "\u001b[1;31mTypeError\u001b[0m: unhashable type: 'list'"
     ]
    }
   ],
   "source": [
    "s2.add([3,4,5,3,\"ROHIT\"])\n",
    "s2"
   ]
  },
  {
   "cell_type": "code",
   "execution_count": 41,
   "id": "691d169b",
   "metadata": {},
   "outputs": [
    {
     "data": {
      "text/plain": [
       "{(2.3, 45, 55, 'Rohit', 'Kumar'), 1, 2, 222, 23235, 3, 5, 6, 7, 78, 8, 'pwioi'}"
      ]
     },
     "execution_count": 41,
     "metadata": {},
     "output_type": "execute_result"
    }
   ],
   "source": [
    "s2.add((2.3,45,55,\"Rohit\", \"Kumar\"))\n",
    "s2"
   ]
  },
  {
   "cell_type": "code",
   "execution_count": 42,
   "id": "aac8feee",
   "metadata": {},
   "outputs": [
    {
     "ename": "TypeError",
     "evalue": "unhashable type: 'set'",
     "output_type": "error",
     "traceback": [
      "\u001b[1;31m---------------------------------------------------------------------------\u001b[0m",
      "\u001b[1;31mTypeError\u001b[0m                                 Traceback (most recent call last)",
      "Cell \u001b[1;32mIn[42], line 1\u001b[0m\n\u001b[1;32m----> 1\u001b[0m s2\u001b[38;5;241m.\u001b[39madd({\u001b[38;5;241m1\u001b[39m,\u001b[38;5;241m23\u001b[39m,\u001b[38;5;241m3\u001b[39m,\u001b[38;5;241m5\u001b[39m,\u001b[38;5;241m6\u001b[39m,\u001b[38;5;241m6\u001b[39m,\u001b[38;5;124m\"\u001b[39m\u001b[38;5;124mHello World\u001b[39m\u001b[38;5;124m\"\u001b[39m, \u001b[38;5;124m\"\u001b[39m\u001b[38;5;124mHiiiiiii\u001b[39m\u001b[38;5;124m\"\u001b[39m})\n\u001b[0;32m      2\u001b[0m s2\n",
      "\u001b[1;31mTypeError\u001b[0m: unhashable type: 'set'"
     ]
    }
   ],
   "source": [
    "s2.add({1,23,3,5,6,6,\"Hello World\", \"Hiiiiiii\"})\n",
    "s2"
   ]
  },
  {
   "cell_type": "code",
   "execution_count": 48,
   "id": "24c434b3",
   "metadata": {},
   "outputs": [
    {
     "ename": "SyntaxError",
     "evalue": "cannot assign to function call here. Maybe you meant '==' instead of '='? (2037915924.py, line 2)",
     "output_type": "error",
     "traceback": [
      "\u001b[1;36m  Cell \u001b[1;32mIn[48], line 2\u001b[1;36m\u001b[0m\n\u001b[1;33m    g(1) = 1\u001b[0m\n\u001b[1;37m    ^\u001b[0m\n\u001b[1;31mSyntaxError\u001b[0m\u001b[1;31m:\u001b[0m cannot assign to function call here. Maybe you meant '==' instead of '='?\n"
     ]
    }
   ],
   "source": [
    "g = (1,2,4,4,5,\"r0OHIT\", \"hELLO\")\n",
    "g(1) = 1\n",
    "g1"
   ]
  },
  {
   "cell_type": "code",
   "execution_count": 49,
   "id": "af703c68",
   "metadata": {},
   "outputs": [],
   "source": [
    "s={1,2,3}"
   ]
  },
  {
   "cell_type": "code",
   "execution_count": 51,
   "id": "ffd5c9eb",
   "metadata": {},
   "outputs": [
    {
     "ename": "TypeError",
     "evalue": "unhashable type: 'list'",
     "output_type": "error",
     "traceback": [
      "\u001b[1;31m---------------------------------------------------------------------------\u001b[0m",
      "\u001b[1;31mTypeError\u001b[0m                                 Traceback (most recent call last)",
      "Cell \u001b[1;32mIn[51], line 1\u001b[0m\n\u001b[1;32m----> 1\u001b[0m s\u001b[38;5;241m.\u001b[39madd([\u001b[38;5;241m1\u001b[39m,\u001b[38;5;241m2\u001b[39m,\u001b[38;5;241m3\u001b[39m,\u001b[38;5;124m\"\u001b[39m\u001b[38;5;124mhi\u001b[39m\u001b[38;5;124m\"\u001b[39m])\n",
      "\u001b[1;31mTypeError\u001b[0m: unhashable type: 'list'"
     ]
    }
   ],
   "source": [
    "s.add([1,2,3,\"hi\"])"
   ]
  },
  {
   "cell_type": "code",
   "execution_count": null,
   "id": "010f3674",
   "metadata": {},
   "outputs": [],
   "source": []
  },
  {
   "cell_type": "code",
   "execution_count": null,
   "id": "81071419",
   "metadata": {},
   "outputs": [],
   "source": []
  }
 ],
 "metadata": {
  "kernelspec": {
   "display_name": "Python 3 (ipykernel)",
   "language": "python",
   "name": "python3"
  },
  "language_info": {
   "codemirror_mode": {
    "name": "ipython",
    "version": 3
   },
   "file_extension": ".py",
   "mimetype": "text/x-python",
   "name": "python",
   "nbconvert_exporter": "python",
   "pygments_lexer": "ipython3",
   "version": "3.11.5"
  }
 },
 "nbformat": 4,
 "nbformat_minor": 5
}
