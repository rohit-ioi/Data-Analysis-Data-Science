{
 "cells": [
  {
   "cell_type": "code",
   "execution_count": 4,
   "id": "c29b01d3",
   "metadata": {},
   "outputs": [],
   "source": [
    "d = {\"KEY\": {3,4,5,6}, \"ROHIT\":{1,2454,553,112}}\n",
    "del d[\"KEY\"]\n"
   ]
  },
  {
   "cell_type": "code",
   "execution_count": 5,
   "id": "5613425e",
   "metadata": {},
   "outputs": [
    {
     "name": "stdout",
     "output_type": "stream",
     "text": [
      "{'ROHIT': {112, 1, 2454, 553}}\n"
     ]
    }
   ],
   "source": [
    "print(d)"
   ]
  },
  {
   "cell_type": "code",
   "execution_count": 6,
   "id": "38280aa4",
   "metadata": {},
   "outputs": [
    {
     "name": "stdout",
     "output_type": "stream",
     "text": [
      "{'Hii': [1, 2, 3, 4, 5, 6, 7, 4]}\n"
     ]
    }
   ],
   "source": [
    "d1 = {\"Hello\": {1,3,5,6,4,2,1}, \"Hii\": [1,2,3,4,5,6,7,4]}\n",
    "del d1[\"Hello\"]\n",
    "print(d1)"
   ]
  },
  {
   "cell_type": "code",
   "execution_count": 7,
   "id": "a9e55610",
   "metadata": {},
   "outputs": [
    {
     "name": "stdout",
     "output_type": "stream",
     "text": [
      "{'hello': {4, 3, 12, 5}, 'Something': [1, 3, 4, 4, 545, 56, 4]}\n"
     ]
    }
   ],
   "source": [
    "dict = {\"name\": \"Rohit\", \"hello\":{12,3,4,5,5,}, \"Something\": [1,3,4,4,545,56,4]}\n",
    "del dict[\"name\"]\n",
    "print(dict)"
   ]
  },
  {
   "cell_type": "code",
   "execution_count": 8,
   "id": "cdb68141",
   "metadata": {},
   "outputs": [],
   "source": [
    "a = 10\n",
    "if a < 15:\n",
    "    pass"
   ]
  },
  {
   "cell_type": "code",
   "execution_count": 9,
   "id": "bb9a1205",
   "metadata": {},
   "outputs": [
    {
     "data": {
      "text/plain": [
       "True"
      ]
     },
     "execution_count": 9,
     "metadata": {},
     "output_type": "execute_result"
    }
   ],
   "source": [
    "a < 15"
   ]
  },
  {
   "cell_type": "code",
   "execution_count": 10,
   "id": "aba51237",
   "metadata": {},
   "outputs": [
    {
     "name": "stdout",
     "output_type": "stream",
     "text": [
      "my name is Rohit\n"
     ]
    }
   ],
   "source": [
    "if a < 15:\n",
    "    print(\"my name is Rohit\"\n",
    "         )"
   ]
  },
  {
   "cell_type": "code",
   "execution_count": 11,
   "id": "5c33f058",
   "metadata": {},
   "outputs": [
    {
     "name": "stdout",
     "output_type": "stream",
     "text": [
      "my name is Rohit\n"
     ]
    }
   ],
   "source": [
    "if 1 < 15:\n",
    "    print(\"my name is Rohit\")"
   ]
  },
  {
   "cell_type": "code",
   "execution_count": null,
   "id": "2d9d20e1",
   "metadata": {},
   "outputs": [],
   "source": [
    "if 50 < 10:\n",
    "    print(\"10 is lesser than 5\")\n",
    "else\n",
    "\n",
    "\n",
    "\n",
    "    "
   ]
  },
  {
   "cell_type": "code",
   "execution_count": null,
   "id": "04676813",
   "metadata": {},
   "outputs": [],
   "source": []
  },
  {
   "cell_type": "code",
   "execution_count": 13,
   "id": "fe99c35c",
   "metadata": {},
   "outputs": [
    {
     "name": "stdout",
     "output_type": "stream",
     "text": [
      "70\n",
      "I will be able to rent a house\n"
     ]
    }
   ],
   "source": [
    "income =int(input())\n",
    "if income < 50:\n",
    "    print(\"I will be able to buy phone\")\n",
    "elif income < 70:\n",
    "    print(\"I will be able to buy car\")\n",
    "elif income < 90:\n",
    "    print(\"I will be able to rent a house\")\n",
    "else:\n",
    "    print(\"I won't be able to buy anything\")"
   ]
  },
  {
   "cell_type": "code",
   "execution_count": null,
   "id": "2ca41d8d",
   "metadata": {},
   "outputs": [],
   "source": [
    "Total_price = int(input())\n",
    "if Total_price > 20000 :\n",
    "    discount = Total_price*.20\n",
    "    print(\"Discount will be\", discount)\n",
    "elif Total_price <=7000 :\n",
    "    discount = Total_price*.05\n",
    "    print(\"discount will be\", discount)\n",
    "else :\n",
    "    "
   ]
  },
  {
   "cell_type": "code",
   "execution_count": null,
   "id": "b01c828a",
   "metadata": {},
   "outputs": [],
   "source": [
    "for i in range(11):\n",
    "    print(i, \"Hello World\")"
   ]
  },
  {
   "cell_type": "code",
   "execution_count": null,
   "id": "f4e743b1",
   "metadata": {},
   "outputs": [],
   "source": [
    "\n",
    "import pandas as pd\n",
    "\n",
    "\n"
   ]
  },
  {
   "cell_type": "code",
   "execution_count": null,
   "id": "0c970749",
   "metadata": {},
   "outputs": [],
   "source": []
  },
  {
   "cell_type": "code",
   "execution_count": null,
   "id": "53c1d819",
   "metadata": {},
   "outputs": [],
   "source": []
  },
  {
   "cell_type": "code",
   "execution_count": null,
   "id": "e129911f",
   "metadata": {},
   "outputs": [],
   "source": []
  }
 ],
 "metadata": {
  "kernelspec": {
   "display_name": "Python 3 (ipykernel)",
   "language": "python",
   "name": "python3"
  },
  "language_info": {
   "codemirror_mode": {
    "name": "ipython",
    "version": 3
   },
   "file_extension": ".py",
   "mimetype": "text/x-python",
   "name": "python",
   "nbconvert_exporter": "python",
   "pygments_lexer": "ipython3",
   "version": "3.11.5"
  }
 },
 "nbformat": 4,
 "nbformat_minor": 5
}
